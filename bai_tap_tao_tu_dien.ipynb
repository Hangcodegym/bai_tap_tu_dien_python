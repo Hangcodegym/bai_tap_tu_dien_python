{
 "cells": [
  {
   "cell_type": "code",
   "execution_count": null,
   "id": "8e814641",
   "metadata": {},
   "outputs": [],
   "source": [
    "def transform (tu_dien, input_word):\n",
    "    return tu_dien.get (input_word)\n",
    "input_word= input(\"nhập vào từ bạn cần dịch: \")\n",
    "translated_word = transform ({'friend': 'bạn', 'love': 'yeu', 'project': 'dự án', \\\n",
    "                              'flower':'Hoa', 'pink':'hong'}, input_word)\n",
    "if not translated_word:\n",
    "    print (\"không có từ này trong từ điển\")\n",
    "else:\n",
    "    print(translated_word)"
   ]
  },
  {
   "cell_type": "code",
   "execution_count": null,
   "id": "4a59cfd0",
   "metadata": {},
   "outputs": [],
   "source": []
  }
 ],
 "metadata": {
  "kernelspec": {
   "display_name": "Python 3 (ipykernel)",
   "language": "python",
   "name": "python3"
  },
  "language_info": {
   "codemirror_mode": {
    "name": "ipython",
    "version": 3
   },
   "file_extension": ".py",
   "mimetype": "text/x-python",
   "name": "python",
   "nbconvert_exporter": "python",
   "pygments_lexer": "ipython3",
   "version": "3.9.12"
  }
 },
 "nbformat": 4,
 "nbformat_minor": 5
}
